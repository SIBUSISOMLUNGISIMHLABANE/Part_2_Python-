{
 "cells": [
  {
   "cell_type": "code",
   "execution_count": 244,
   "metadata": {},
   "outputs": [],
   "source": [
    "import pandas as pd #dependency\n",
    "import numpy as np #dependency\n",
    "\n",
    "df_teacher = pd.DataFrame(\n",
    "    {\n",
    "    \"name\": [\"Pep Guardiola\", \"Jurgen Klopp\", \"Mikel Arteta\", \"Zinadine Zidane\"],\n",
    "    \"married\": [True, True, False, True],\n",
    "    \"school\": [\"Manchester High School\", \"Liverpool High School\", \"Arsenal High\", np.nan]\n",
    "    }\n",
    ")\n",
    "\n",
    "df_student = pd.DataFrame(\n",
    "    {\n",
    "        \"teacher\": [\"Mikel Arteta\", \"Mikel Arteta\", \"Pep Guardiola\", \"Jurgen Klopp\", \"Jurgen Klopp\", \"Jurgen Klopp\", \"Pep Guardiola\",\"Pep Guardiola\",\"Mikel Arteta\"],      \n",
    "        \"name\": [\"Bukayo Saka\", \"Gabriel Martinelli\", \"Jack Grealish\", \"Roberto Firmino\",\"Andrew Robertson\", \"Darwin Nunez\", \"Ederson Moraes\", \"Manuel Akanji\", \"Thomas Partey\"],\n",
    "        \"age\": [21, 21, 27, 31, 28, 23, 29, 27, 29],\n",
    "        \"height\": ['2.1m','2.1m', '2.1m', '2.1m', '2.1m', '2.1m', '2.1m', '2.1m', '2.1m']\n",
    "    }\n",
    ")"
   ]
  },
  {
   "cell_type": "code",
   "execution_count": 245,
   "metadata": {},
   "outputs": [
    {
     "data": {
      "text/html": [
       "<div>\n",
       "<style scoped>\n",
       "    .dataframe tbody tr th:only-of-type {\n",
       "        vertical-align: middle;\n",
       "    }\n",
       "\n",
       "    .dataframe tbody tr th {\n",
       "        vertical-align: top;\n",
       "    }\n",
       "\n",
       "    .dataframe thead th {\n",
       "        text-align: right;\n",
       "    }\n",
       "</style>\n",
       "<table border=\"1\" class=\"dataframe\">\n",
       "  <thead>\n",
       "    <tr style=\"text-align: right;\">\n",
       "      <th></th>\n",
       "      <th>married</th>\n",
       "      <th>school</th>\n",
       "    </tr>\n",
       "    <tr>\n",
       "      <th>name</th>\n",
       "      <th></th>\n",
       "      <th></th>\n",
       "    </tr>\n",
       "  </thead>\n",
       "  <tbody>\n",
       "    <tr>\n",
       "      <th>Pep Guardiola</th>\n",
       "      <td>True</td>\n",
       "      <td>Manchester High School</td>\n",
       "    </tr>\n",
       "    <tr>\n",
       "      <th>Jurgen Klopp</th>\n",
       "      <td>True</td>\n",
       "      <td>Liverpool High School</td>\n",
       "    </tr>\n",
       "    <tr>\n",
       "      <th>Mikel Arteta</th>\n",
       "      <td>False</td>\n",
       "      <td>Arsenal High</td>\n",
       "    </tr>\n",
       "    <tr>\n",
       "      <th>Zinadine Zidane</th>\n",
       "      <td>True</td>\n",
       "      <td>NaN</td>\n",
       "    </tr>\n",
       "  </tbody>\n",
       "</table>\n",
       "</div>"
      ],
      "text/plain": [
       "                 married                  school\n",
       "name                                            \n",
       "Pep Guardiola       True  Manchester High School\n",
       "Jurgen Klopp        True   Liverpool High School\n",
       "Mikel Arteta       False            Arsenal High\n",
       "Zinadine Zidane     True                     NaN"
      ]
     },
     "execution_count": 245,
     "metadata": {},
     "output_type": "execute_result"
    }
   ],
   "source": [
    "# set `name` as an index\n",
    "df_teacher = df_teacher.set_index(\"name\")\n",
    "df_teacher"
   ]
  },
  {
   "cell_type": "code",
   "execution_count": 246,
   "metadata": {},
   "outputs": [
    {
     "data": {
      "text/html": [
       "<div>\n",
       "<style scoped>\n",
       "    .dataframe tbody tr th:only-of-type {\n",
       "        vertical-align: middle;\n",
       "    }\n",
       "\n",
       "    .dataframe tbody tr th {\n",
       "        vertical-align: top;\n",
       "    }\n",
       "\n",
       "    .dataframe thead th {\n",
       "        text-align: right;\n",
       "    }\n",
       "</style>\n",
       "<table border=\"1\" class=\"dataframe\">\n",
       "  <thead>\n",
       "    <tr style=\"text-align: right;\">\n",
       "      <th></th>\n",
       "      <th>name</th>\n",
       "      <th>age</th>\n",
       "      <th>height</th>\n",
       "    </tr>\n",
       "    <tr>\n",
       "      <th>teacher</th>\n",
       "      <th></th>\n",
       "      <th></th>\n",
       "      <th></th>\n",
       "    </tr>\n",
       "  </thead>\n",
       "  <tbody>\n",
       "    <tr>\n",
       "      <th>Mikel Arteta</th>\n",
       "      <td>Bukayo Saka</td>\n",
       "      <td>21</td>\n",
       "      <td>2.1m</td>\n",
       "    </tr>\n",
       "    <tr>\n",
       "      <th>Mikel Arteta</th>\n",
       "      <td>Gabriel Martinelli</td>\n",
       "      <td>21</td>\n",
       "      <td>2.1m</td>\n",
       "    </tr>\n",
       "    <tr>\n",
       "      <th>Pep Guardiola</th>\n",
       "      <td>Jack Grealish</td>\n",
       "      <td>27</td>\n",
       "      <td>2.1m</td>\n",
       "    </tr>\n",
       "    <tr>\n",
       "      <th>Jurgen Klopp</th>\n",
       "      <td>Roberto Firmino</td>\n",
       "      <td>31</td>\n",
       "      <td>2.1m</td>\n",
       "    </tr>\n",
       "    <tr>\n",
       "      <th>Jurgen Klopp</th>\n",
       "      <td>Andrew Robertson</td>\n",
       "      <td>28</td>\n",
       "      <td>2.1m</td>\n",
       "    </tr>\n",
       "    <tr>\n",
       "      <th>Jurgen Klopp</th>\n",
       "      <td>Darwin Nunez</td>\n",
       "      <td>23</td>\n",
       "      <td>2.1m</td>\n",
       "    </tr>\n",
       "    <tr>\n",
       "      <th>Pep Guardiola</th>\n",
       "      <td>Ederson Moraes</td>\n",
       "      <td>29</td>\n",
       "      <td>2.1m</td>\n",
       "    </tr>\n",
       "    <tr>\n",
       "      <th>Pep Guardiola</th>\n",
       "      <td>Manuel Akanji</td>\n",
       "      <td>27</td>\n",
       "      <td>2.1m</td>\n",
       "    </tr>\n",
       "    <tr>\n",
       "      <th>Mikel Arteta</th>\n",
       "      <td>Thomas Partey</td>\n",
       "      <td>29</td>\n",
       "      <td>2.1m</td>\n",
       "    </tr>\n",
       "  </tbody>\n",
       "</table>\n",
       "</div>"
      ],
      "text/plain": [
       "                             name  age height\n",
       "teacher                                      \n",
       "Mikel Arteta          Bukayo Saka   21   2.1m\n",
       "Mikel Arteta   Gabriel Martinelli   21   2.1m\n",
       "Pep Guardiola       Jack Grealish   27   2.1m\n",
       "Jurgen Klopp      Roberto Firmino   31   2.1m\n",
       "Jurgen Klopp     Andrew Robertson   28   2.1m\n",
       "Jurgen Klopp         Darwin Nunez   23   2.1m\n",
       "Pep Guardiola      Ederson Moraes   29   2.1m\n",
       "Pep Guardiola       Manuel Akanji   27   2.1m\n",
       "Mikel Arteta        Thomas Partey   29   2.1m"
      ]
     },
     "execution_count": 246,
     "metadata": {},
     "output_type": "execute_result"
    }
   ],
   "source": [
    "# set `teacher` as an index\n",
    "df_student = df_student.set_index(\"teacher\")\n",
    "df_student"
   ]
  },
  {
   "cell_type": "code",
   "execution_count": 247,
   "metadata": {},
   "outputs": [
    {
     "data": {
      "text/html": [
       "<div>\n",
       "<style scoped>\n",
       "    .dataframe tbody tr th:only-of-type {\n",
       "        vertical-align: middle;\n",
       "    }\n",
       "\n",
       "    .dataframe tbody tr th {\n",
       "        vertical-align: top;\n",
       "    }\n",
       "\n",
       "    .dataframe thead th {\n",
       "        text-align: right;\n",
       "    }\n",
       "</style>\n",
       "<table border=\"1\" class=\"dataframe\">\n",
       "  <thead>\n",
       "    <tr style=\"text-align: right;\">\n",
       "      <th></th>\n",
       "      <th>teacher</th>\n",
       "      <th>school</th>\n",
       "      <th>married</th>\n",
       "      <th>student</th>\n",
       "      <th>age</th>\n",
       "      <th>height</th>\n",
       "    </tr>\n",
       "  </thead>\n",
       "  <tbody>\n",
       "    <tr>\n",
       "      <th>0</th>\n",
       "      <td>Jurgen Klopp</td>\n",
       "      <td>Liverpool High School</td>\n",
       "      <td>True</td>\n",
       "      <td>Roberto Firmino</td>\n",
       "      <td>31</td>\n",
       "      <td>2.1m</td>\n",
       "    </tr>\n",
       "    <tr>\n",
       "      <th>1</th>\n",
       "      <td>Jurgen Klopp</td>\n",
       "      <td>Liverpool High School</td>\n",
       "      <td>True</td>\n",
       "      <td>Andrew Robertson</td>\n",
       "      <td>28</td>\n",
       "      <td>2.1m</td>\n",
       "    </tr>\n",
       "    <tr>\n",
       "      <th>2</th>\n",
       "      <td>Jurgen Klopp</td>\n",
       "      <td>Liverpool High School</td>\n",
       "      <td>True</td>\n",
       "      <td>Darwin Nunez</td>\n",
       "      <td>23</td>\n",
       "      <td>2.1m</td>\n",
       "    </tr>\n",
       "    <tr>\n",
       "      <th>3</th>\n",
       "      <td>Mikel Arteta</td>\n",
       "      <td>Arsenal High</td>\n",
       "      <td>False</td>\n",
       "      <td>Bukayo Saka</td>\n",
       "      <td>21</td>\n",
       "      <td>2.1m</td>\n",
       "    </tr>\n",
       "    <tr>\n",
       "      <th>4</th>\n",
       "      <td>Mikel Arteta</td>\n",
       "      <td>Arsenal High</td>\n",
       "      <td>False</td>\n",
       "      <td>Gabriel Martinelli</td>\n",
       "      <td>21</td>\n",
       "      <td>2.1m</td>\n",
       "    </tr>\n",
       "    <tr>\n",
       "      <th>5</th>\n",
       "      <td>Mikel Arteta</td>\n",
       "      <td>Arsenal High</td>\n",
       "      <td>False</td>\n",
       "      <td>Thomas Partey</td>\n",
       "      <td>29</td>\n",
       "      <td>2.1m</td>\n",
       "    </tr>\n",
       "    <tr>\n",
       "      <th>6</th>\n",
       "      <td>Pep Guardiola</td>\n",
       "      <td>Manchester High School</td>\n",
       "      <td>True</td>\n",
       "      <td>Jack Grealish</td>\n",
       "      <td>27</td>\n",
       "      <td>2.1m</td>\n",
       "    </tr>\n",
       "    <tr>\n",
       "      <th>7</th>\n",
       "      <td>Pep Guardiola</td>\n",
       "      <td>Manchester High School</td>\n",
       "      <td>True</td>\n",
       "      <td>Ederson Moraes</td>\n",
       "      <td>29</td>\n",
       "      <td>2.1m</td>\n",
       "    </tr>\n",
       "    <tr>\n",
       "      <th>8</th>\n",
       "      <td>Pep Guardiola</td>\n",
       "      <td>Manchester High School</td>\n",
       "      <td>True</td>\n",
       "      <td>Manuel Akanji</td>\n",
       "      <td>27</td>\n",
       "      <td>2.1m</td>\n",
       "    </tr>\n",
       "  </tbody>\n",
       "</table>\n",
       "</div>"
      ],
      "text/plain": [
       "         teacher                  school  married             student  age  \\\n",
       "0   Jurgen Klopp   Liverpool High School     True     Roberto Firmino   31   \n",
       "1   Jurgen Klopp   Liverpool High School     True    Andrew Robertson   28   \n",
       "2   Jurgen Klopp   Liverpool High School     True        Darwin Nunez   23   \n",
       "3   Mikel Arteta            Arsenal High    False         Bukayo Saka   21   \n",
       "4   Mikel Arteta            Arsenal High    False  Gabriel Martinelli   21   \n",
       "5   Mikel Arteta            Arsenal High    False       Thomas Partey   29   \n",
       "6  Pep Guardiola  Manchester High School     True       Jack Grealish   27   \n",
       "7  Pep Guardiola  Manchester High School     True      Ederson Moraes   29   \n",
       "8  Pep Guardiola  Manchester High School     True       Manuel Akanji   27   \n",
       "\n",
       "  height  \n",
       "0   2.1m  \n",
       "1   2.1m  \n",
       "2   2.1m  \n",
       "3   2.1m  \n",
       "4   2.1m  \n",
       "5   2.1m  \n",
       "6   2.1m  \n",
       "7   2.1m  \n",
       "8   2.1m  "
      ]
     },
     "execution_count": 247,
     "metadata": {},
     "output_type": "execute_result"
    }
   ],
   "source": [
    "# join 2 dataframes by index\n",
    "df = df_student.join(df_teacher, how=\"inner\")\n",
    "\n",
    "# reset index\n",
    "df = df.reset_index()\n",
    "\n",
    "# rename columns 'name' and 'index'\n",
    "df = df.rename(columns = {\"name\": \"student\", \"index\": \"teacher\"})\n",
    "df_joined = df[[\"teacher\", \"school\", \"married\",\"student\",\"age\",\"height\"]]\n",
    "df_joined"
   ]
  },
  {
   "cell_type": "code",
   "execution_count": 248,
   "metadata": {},
   "outputs": [
    {
     "data": {
      "text/plain": [
       "[{'student': 'Roberto Firmino', 'age': 31, 'height': '2.1m'},\n",
       " {'student': 'Andrew Robertson', 'age': 28, 'height': '2.1m'},\n",
       " {'student': 'Darwin Nunez', 'age': 23, 'height': '2.1m'}]"
      ]
     },
     "execution_count": 248,
     "metadata": {},
     "output_type": "execute_result"
    }
   ],
   "source": [
    "# filter data for 'Jurgen Klopp' only\n",
    "df_jurgen = df_joined[df_joined.teacher == \"Jurgen Klopp\"]\n",
    "\n",
    "# set 'teacher', 'school', 'married'\n",
    "df_jurgen = df_jurgen.set_index(['teacher', 'school', 'married'])\n",
    "\n",
    "# convert the dataframe to a list of dictionaries\n",
    "Jurgen_students_list = df_jurgen.to_dict(orient='records')\n",
    "Jurgen_students_list"
   ]
  },
  {
   "cell_type": "code",
   "execution_count": 249,
   "metadata": {},
   "outputs": [
    {
     "data": {
      "text/plain": [
       "[{'student': 'Bukayo Saka', 'age': 21, 'height': '2.1m'},\n",
       " {'student': 'Gabriel Martinelli', 'age': 21, 'height': '2.1m'},\n",
       " {'student': 'Thomas Partey', 'age': 29, 'height': '2.1m'}]"
      ]
     },
     "execution_count": 249,
     "metadata": {},
     "output_type": "execute_result"
    }
   ],
   "source": [
    "# filter data for 'Mikel Arteta' only\n",
    "df_mike = df_joined[df_joined.teacher == \"Mikel Arteta\"]\n",
    "\n",
    "# set 'teacher', 'school', 'married'\n",
    "df_mike = df_mike.set_index(['teacher', 'school', 'married'])\n",
    "\n",
    "# convert the dataframe to a list of dictionaries\n",
    "Mike_students_list = df_mike.to_dict(orient='records')\n",
    "Mike_students_list"
   ]
  },
  {
   "cell_type": "code",
   "execution_count": 250,
   "metadata": {},
   "outputs": [
    {
     "data": {
      "text/plain": [
       "[{'student': 'Jack Grealish', 'age': 27, 'height': '2.1m'},\n",
       " {'student': 'Ederson Moraes', 'age': 29, 'height': '2.1m'},\n",
       " {'student': 'Manuel Akanji', 'age': 27, 'height': '2.1m'}]"
      ]
     },
     "execution_count": 250,
     "metadata": {},
     "output_type": "execute_result"
    }
   ],
   "source": [
    "# filter data for 'Pep Guardiola' only\n",
    "df_pep = df_joined[df_joined.teacher == \"Pep Guardiola\"]\n",
    "\n",
    "# set 'teacher', 'school', 'married'\n",
    "df_pep = df_pep.set_index(['teacher', 'school', 'married'])\n",
    "\n",
    "# convert the dataframe to a list of dictionaries\n",
    "Pep_students_list = df_pep.to_dict(orient='records')\n",
    "Pep_students_list"
   ]
  },
  {
   "cell_type": "code",
   "execution_count": 251,
   "metadata": {},
   "outputs": [
    {
     "data": {
      "text/plain": [
       "{'teacher': 'Jurgen Klopp',\n",
       " 'school': 'Liverpool High School',\n",
       " 'married': True,\n",
       " 'Students': [{'student': 'Roberto Firmino', 'age': 31, 'height': '2.1m'},\n",
       "  {'student': 'Andrew Robertson', 'age': 28, 'height': '2.1m'},\n",
       "  {'student': 'Darwin Nunez', 'age': 23, 'height': '2.1m'}]}"
      ]
     },
     "execution_count": 251,
     "metadata": {},
     "output_type": "execute_result"
    }
   ],
   "source": [
    "# create dictionary for 'Jurgen Klopp'\n",
    "jurg_data = {\n",
    "    \"teacher\": \"Jurgen Klopp\",\n",
    "    \"school\": \"Liverpool High School\",\n",
    "    \"married\": True\n",
    "}\n",
    "\n",
    "# Append 'Jurgen Klopp' dict with students list\n",
    "jurg_data.update({'Students': Jurgen_students_list})\n",
    "jurg_data"
   ]
  },
  {
   "cell_type": "code",
   "execution_count": 252,
   "metadata": {},
   "outputs": [
    {
     "data": {
      "text/plain": [
       "{'teacher': 'Pep Guardiola',\n",
       " 'school': 'Manchester High School',\n",
       " 'married': True,\n",
       " 'Students': [{'student': 'Jack Grealish', 'age': 27, 'height': '2.1m'},\n",
       "  {'student': 'Ederson Moraes', 'age': 29, 'height': '2.1m'},\n",
       "  {'student': 'Manuel Akanji', 'age': 27, 'height': '2.1m'}]}"
      ]
     },
     "execution_count": 252,
     "metadata": {},
     "output_type": "execute_result"
    }
   ],
   "source": [
    "# create dictionary for 'Pep Guardiola'\n",
    "pep_data = {\n",
    "    \"teacher\": \"Pep Guardiola\",\n",
    "    \"school\": \"Manchester High School\",\n",
    "    \"married\": True\n",
    "}\n",
    "\n",
    "# Append 'Pep Guardiola' dict with students list\n",
    "pep_data.update({'Students': Pep_students_list})\n",
    "pep_data"
   ]
  },
  {
   "cell_type": "code",
   "execution_count": 253,
   "metadata": {},
   "outputs": [
    {
     "data": {
      "text/plain": [
       "{'teacher': 'Mike Arteta',\n",
       " 'school': 'Arsenal High',\n",
       " 'married': False,\n",
       " 'Students': [{'student': 'Bukayo Saka', 'age': 21, 'height': '2.1m'},\n",
       "  {'student': 'Gabriel Martinelli', 'age': 21, 'height': '2.1m'},\n",
       "  {'student': 'Thomas Partey', 'age': 29, 'height': '2.1m'}]}"
      ]
     },
     "execution_count": 253,
     "metadata": {},
     "output_type": "execute_result"
    }
   ],
   "source": [
    "# create dictionary for 'Mike Arteta'\n",
    "mike_data = {\n",
    "    \"teacher\": \"Mike Arteta\",\n",
    "    \"school\": \"Arsenal High\",\n",
    "    \"married\": False\n",
    "}\n",
    "\n",
    "# Append 'Mike Arteta' dict with students list\n",
    "mike_data.update({'Students': Mike_students_list})\n",
    "mike_data"
   ]
  },
  {
   "cell_type": "code",
   "execution_count": 254,
   "metadata": {},
   "outputs": [
    {
     "data": {
      "text/plain": [
       "[{'teacher': 'Jurgen Klopp',\n",
       "  'school': 'Liverpool High School',\n",
       "  'married': True,\n",
       "  'Students': [{'student': 'Roberto Firmino', 'age': 31, 'height': '2.1m'},\n",
       "   {'student': 'Andrew Robertson', 'age': 28, 'height': '2.1m'},\n",
       "   {'student': 'Darwin Nunez', 'age': 23, 'height': '2.1m'}]},\n",
       " {'teacher': 'Pep Guardiola',\n",
       "  'school': 'Manchester High School',\n",
       "  'married': True,\n",
       "  'Students': [{'student': 'Jack Grealish', 'age': 27, 'height': '2.1m'},\n",
       "   {'student': 'Ederson Moraes', 'age': 29, 'height': '2.1m'},\n",
       "   {'student': 'Manuel Akanji', 'age': 27, 'height': '2.1m'}]},\n",
       " {'teacher': 'Mike Arteta',\n",
       "  'school': 'Arsenal High',\n",
       "  'married': False,\n",
       "  'Students': [{'student': 'Bukayo Saka', 'age': 21, 'height': '2.1m'},\n",
       "   {'student': 'Gabriel Martinelli', 'age': 21, 'height': '2.1m'},\n",
       "   {'student': 'Thomas Partey', 'age': 29, 'height': '2.1m'}]}]"
      ]
     },
     "execution_count": 254,
     "metadata": {},
     "output_type": "execute_result"
    }
   ],
   "source": [
    "# join the 3 list of dictionaries together\n",
    "joined_dict = [jurg_data, pep_data, mike_data]\n",
    "joined_dict"
   ]
  },
  {
   "cell_type": "code",
   "execution_count": null,
   "metadata": {},
   "outputs": [],
   "source": []
  }
 ],
 "metadata": {
  "kernelspec": {
   "display_name": "Python 3 (ipykernel)",
   "language": "python",
   "name": "python3"
  },
  "language_info": {
   "codemirror_mode": {
    "name": "ipython",
    "version": 3
   },
   "file_extension": ".py",
   "mimetype": "text/x-python",
   "name": "python",
   "nbconvert_exporter": "python",
   "pygments_lexer": "ipython3",
   "version": "3.9.12"
  }
 },
 "nbformat": 4,
 "nbformat_minor": 4
}
